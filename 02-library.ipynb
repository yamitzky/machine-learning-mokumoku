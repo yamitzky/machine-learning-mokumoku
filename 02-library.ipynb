{
 "cells": [
  {
   "cell_type": "markdown",
   "metadata": {},
   "source": [
    "# ライブラリを使って機械学習を始めてみる"
   ]
  },
  {
   "cell_type": "markdown",
   "metadata": {},
   "source": [
    "## 目次\n",
    "- 機械学習のよくあるPDCA\n",
    "- 直線関係のあるデータの可視化\n",
    "- 線形回帰で回帰する\n",
    "- 非線形な関数の回帰\n",
    "- 手法の良さの評価\n",
    "- 実際のデータとの違い"
   ]
  },
  {
   "cell_type": "markdown",
   "metadata": {},
   "source": [
    "## 機械学習のよくあるPDCA\n",
    "1. テキストデータやDBをPythonでロードする\n",
    "2. ロードしたデータにバイナリ化などの処理を加えて、行列にロードする\n",
    "3. 機械学習のモデルを使って、学習する\n",
    "4. 予測をしてみる\n",
    "5. 結果を可視化する\n",
    "6. 誤差を定量的に測る\n",
    "7. 特徴量を増減させたり、モデルを変えて、3〜6を繰り返す\n",
    "\n",
    "今回は、この一連の流れを、ざっくりとやってみます。"
   ]
  },
  {
   "cell_type": "markdown",
   "metadata": {},
   "source": [
    "## 直線関係のあるデータの可視化"
   ]
  },
  {
   "cell_type": "code",
   "execution_count": 33,
   "metadata": {
    "collapsed": false
   },
   "outputs": [
    {
     "name": "stdout",
     "output_type": "stream",
     "text": [
      "Populating the interactive namespace from numpy and matplotlib\n"
     ]
    }
   ],
   "source": [
    "%pylab inline\n",
    "import numpy as np\n",
    "import pylab as pl"
   ]
  },
  {
   "cell_type": "markdown",
   "metadata": {},
   "source": [
    "まずは、Pylabの使い方として直線を引いてみる"
   ]
  },
  {
   "cell_type": "code",
   "execution_count": 21,
   "metadata": {
    "collapsed": false
   },
   "outputs": [
    {
     "data": {
      "text/plain": [
       "[<matplotlib.lines.Line2D at 0x10fa82c50>]"
      ]
     },
     "execution_count": 21,
     "metadata": {},
     "output_type": "execute_result"
    },
    {
     "data": {
      "image/png": "[encoded data removed]",
      "text/plain": [
       "<matplotlib.figure.Figure at 0x10f9c1790>"
      ]
     },
     "metadata": {},
     "output_type": "display_data"
    }
   ],
   "source": [
    "X = np.arange(0.0, 1.0, 0.01)\n",
    "Y = 2.3 + X * 3.5\n",
    "pl.plot(X, Y)"
   ]
  },
  {
   "cell_type": "code",
   "execution_count": 22,
   "metadata": {
    "collapsed": false
   },
   "outputs": [
    {
     "data": {
      "text/plain": [
       "<matplotlib.collections.PathCollection at 0x10fba0410>"
      ]
     },
     "execution_count": 22,
     "metadata": {},
     "output_type": "execute_result"
    },
    {
     "data": {
      "image/png": "[encoded data removed]",
      "text/plain": [
       "<matplotlib.figure.Figure at 0x10db36e90>"
      ]
     },
     "metadata": {},
     "output_type": "display_data"
    }
   ],
   "source": [
    "noise = np.random.normal(scale=0.5, size=X.shape)\n",
    "Y =  2.3 + X * 3.5 + noise\n",
    "pl.scatter(X, Y)"
   ]
  },
  {
   "cell_type": "markdown",
   "metadata": {},
   "source": [
    "## 線形回帰で回帰する"
   ]
  },
  {
   "cell_type": "code",
   "execution_count": 23,
   "metadata": {
    "collapsed": false
   },
   "outputs": [
    {
     "data": {
      "text/plain": [
       "<matplotlib.collections.PathCollection at 0x10fb54a50>"
      ]
     },
     "execution_count": 23,
     "metadata": {},
     "output_type": "execute_result"
    },
    {
     "data": {
      "image/png": "[encoded data removed]",
      "text/plain": [
       "<matplotlib.figure.Figure at 0x10dc0c390>"
      ]
     },
     "metadata": {},
     "output_type": "display_data"
    }
   ],
   "source": [
    "from sklearn.linear_model import LinearRegression\n",
    "\n",
    "X_ = np.array([X]).T  # transform to fit sklearn-style-array\n",
    "\n",
    "reg = LinearRegression()\n",
    "reg.fit(X_, Y)\n",
    "Y_pred = reg.predict(X_)\n",
    "\n",
    "pl.plot(X, Y_pred)\n",
    "pl.scatter(X, Y)"
   ]
  },
  {
   "cell_type": "markdown",
   "metadata": {},
   "source": [
    "## 非線形な関係のあるデータの回帰"
   ]
  },
  {
   "cell_type": "markdown",
   "metadata": {},
   "source": [
    "- numpyの関数を使って、適当に非線形なデータを初期化する(sin関数など)\n",
    "- LinearRegressionを使って回帰をかけてみる\n",
    "- LinearRegressionでないモデルを使って、回帰をかけてみる(RandomForest, SupportVectorRegressor, GradientBoostingなど)\n",
    "- [Boston House Price Dataset](http://scikit-learn.org/stable/modules/generated/sklearn.datasets.load_boston.html) のようなリアルデータを使う"
   ]
  },
  {
   "cell_type": "markdown",
   "metadata": {},
   "source": [
    "## 手法の良さを定量的に評価する"
   ]
  },
  {
   "cell_type": "markdown",
   "metadata": {},
   "source": [
    "手法の良さを評価するとき、２つの観点が必要になる。\n",
    "\n",
    "1. 「誤差」を定義すること\n",
    "2. 汎化誤差が高いこと\n",
    "\n",
    "回帰の場合、誤差は「平均二乗誤差」を使う"
   ]
  },
  {
   "cell_type": "code",
   "execution_count": 32,
   "metadata": {
    "collapsed": false
   },
   "outputs": [
    {
     "data": {
      "text/plain": [
       "0.22733104463065223"
      ]
     },
     "execution_count": 32,
     "metadata": {},
     "output_type": "execute_result"
    }
   ],
   "source": [
    "err = np.average((Y - Y_pred) ** 2)\n",
    "err"
   ]
  },
  {
   "cell_type": "markdown",
   "metadata": {},
   "source": [
    "ただし、このような方法で評価すると、過学習したものの精度が高くなってしまうが、これは望んだ評価指標ではない。([PRMLの過学習の例](http://research.microsoft.com/en-us/um/people/cmbishop/prml/prmlfigs-png/Figure1.4d.png))\n",
    "\n",
    "一般のユースケースを考えると、「過去のデータ」を使って学習し「未来のデータ」を予測したい。\n",
    "\n",
    "そこで、データを「学習データ」と「テストデータ」にランダムに分割し、(例：学習データ80％、テストデータ20％)「学習データ」でfitし、「テストデータ」をpredictする。"
   ]
  },
  {
   "cell_type": "code",
   "execution_count": null,
   "metadata": {
    "collapsed": true
   },
   "outputs": [],
   "source": [
    "\n"
   ]
  },
  {
   "cell_type": "markdown",
   "metadata": {},
   "source": [
    "また、より正確にはcross validationという手法を使う(パラメータチューニングのときなど)。"
   ]
  },
  {
   "cell_type": "code",
   "execution_count": null,
   "metadata": {
    "collapsed": true
   },
   "outputs": [],
   "source": []
  },
  {
   "cell_type": "markdown",
   "metadata": {},
   "source": [
    "## 実際のデータと今回のテストデータの違い"
   ]
  },
  {
   "cell_type": "markdown",
   "metadata": {},
   "source": [
    "今回のテストデータでは、\n",
    "\n",
    "- 人間が人為的に決めた関数\n",
    "- 正規分布に従うノイズを付与した\n",
    "- Xが一次元\n",
    "\n",
    "だが、実際のデータでは、\n",
    "\n",
    "- どういう分布にしたがって発生するか、本当はわからない\n",
    "- 100次元ぐらいあって、可視化できない\n",
    "- リアルタイムにデータが増える\n",
    "- データ量が多すぎて、リッチな手法が使えない\n",
    "- 音声データとか画像データとか、ベクトルにすること自体難しい\n",
    "\n",
    "といったことが発生する"
   ]
  },
  {
   "cell_type": "code",
   "execution_count": null,
   "metadata": {
    "collapsed": true
   },
   "outputs": [],
   "source": []
  }
 ],
 "metadata": {
  "kernelspec": {
   "display_name": "Python 2",
   "language": "python",
   "name": "python2"
  },
  "language_info": {
   "codemirror_mode": {
    "name": "ipython",
    "version": 2
   },
   "file_extension": ".py",
   "mimetype": "text/x-python",
   "name": "python",
   "nbconvert_exporter": "python",
   "pygments_lexer": "ipython2",
   "version": "2.7.10"
  }
 },
 "nbformat": 4,
 "nbformat_minor": 0
}
